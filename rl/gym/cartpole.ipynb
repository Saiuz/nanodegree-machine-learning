{
 "cells": [
  {
   "cell_type": "code",
   "execution_count": 92,
   "metadata": {},
   "outputs": [
    {
     "name": "stdout",
     "output_type": "stream",
     "text": [
      "Best score: 10.0\n",
      "Last score: 10.0\n",
      "Epsilon: 10.0\n",
      "Best score: 200.0\n",
      "Last score: 200.0\n",
      "Epsilon: 0.01996007984031936\n",
      "Best score: 200.0\n"
     ]
    },
    {
     "data": {
      "image/png": "[encoded data removed]",
      "text/plain": [
       "<Figure size 432x288 with 1 Axes>"
      ]
     },
     "metadata": {
      "needs_background": "light"
     },
     "output_type": "display_data"
    },
    {
     "data": {
      "text/plain": [
       "[<matplotlib.lines.Line2D at 0x7f1000a147f0>]"
      ]
     },
     "execution_count": 92,
     "metadata": {},
     "output_type": "execute_result"
    },
    {
     "data": {
      "image/png": "[encoded data removed]",
      "text/plain": [
       "<Figure size 432x288 with 1 Axes>"
      ]
     },
     "metadata": {
      "needs_background": "light"
     },
     "output_type": "display_data"
    }
   ],
   "source": [
    "import gym\n",
    "import numpy as np\n",
    "import matplotlib.pyplot as plt\n",
    "from collections import deque\n",
    "%matplotlib inline\n",
    "\n",
    "#space: pos_x, v_x, angle, angular velocity\n",
    "buckets = (10, 5) \n",
    "env = gym.make('CartPole-v0')\n",
    "Q = np.zeros(buckets + (env.action_space.n,))\n",
    "alpha = 0.5\n",
    "gamma = 1\n",
    "scores = deque(maxlen=2000)\n",
    "epsilons = []\n",
    "\n",
    "def discretize(state):\n",
    "    result = np.zeros(len(buckets), int)\n",
    "    min_value = [env.observation_space.low[2], -np.radians(50)]\n",
    "    max_value = [env.observation_space.high[2], np.radians(50)]\n",
    "    for i in range(2):\n",
    "        value = max(min_value[i], min(max_value[i], state[i + 2]))\n",
    "        result[i] = int(round(abs(value - min_value[i]) / abs(max_value[i] - min_value[i]) * (buckets[i] - 1)))\n",
    "    return tuple(result)\n",
    "\n",
    "def execute(num_episodes = 100):\n",
    "    for i in range(num_episodes):\n",
    "        epsilon = max(min_epsilon, min(1, 1/np.log(i + 1.1)))\n",
    "        epsilon = 0.2 * (0.5 / ((i + 1)/100.0))\n",
    "        run_episode(i, epsilon)\n",
    "\n",
    "def choose_action(state, epsilon):\n",
    "    if np.random.random() <= epsilon:\n",
    "        return env.action_space.sample()\n",
    "    else:\n",
    "        return np.argmax(Q[state])\n",
    "\n",
    "def update_Q(old_state, next_state, action, reward):\n",
    "    Q[old_state][action] += (alpha * (reward + (gamma * np.amax(Q[next_state])) - Q[old_state][action]))\n",
    "\n",
    "def run_episode(i_episode, epsilon):\n",
    "    state = discretize(env.reset())\n",
    "    done = False\n",
    "    t = 0\n",
    "    score = 0\n",
    "    while not done :\n",
    "        t+=1\n",
    "        action = choose_action(state, epsilon)\n",
    "        observation, reward, done, _ = env.step(action)\n",
    "        score += reward\n",
    "        next_state = discretize(observation)\n",
    "\n",
    "        if done:\n",
    "            scores.append(score)\n",
    "            epsilons.append(epsilon)\n",
    "            break        \n",
    "\n",
    "        update_Q(state, next_state, action, reward)\n",
    "\n",
    "        state = next_state\n",
    "    if i_episode % 500 == 0:\n",
    "        print(\"Best score:\", np.max(scores))\n",
    "        print(\"Last score:\", score)\n",
    "        print(\"Epsilon:\", epsilon)\n",
    "\n",
    "execute(1000)\n",
    "print(\"Best score:\", np.max(scores))\n",
    "plt.plot(scores)\n",
    "plt.show()\n",
    "plt.plot(epsilons)\n"
   ]
  }
 ],
 "metadata": {
  "kernelspec": {
   "display_name": "Python 3",
   "language": "python",
   "name": "python3"
  },
  "language_info": {
   "codemirror_mode": {
    "name": "ipython",
    "version": 3
   },
   "file_extension": ".py",
   "mimetype": "text/x-python",
   "name": "python",
   "nbconvert_exporter": "python",
   "pygments_lexer": "ipython3",
   "version": "3.6.6"
  }
 },
 "nbformat": 4,
 "nbformat_minor": 2
}
